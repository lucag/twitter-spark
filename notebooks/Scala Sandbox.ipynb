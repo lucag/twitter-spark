{
 "cells": [
  {
   "cell_type": "code",
   "execution_count": 5,
   "metadata": {},
   "outputs": [
    {
     "data": {
      "text/plain": [
       "Name: Compile Error\n",
       "Message: <console>:30: error: not found: value TutorialHelper\n",
       "         import TutorialHelper._\n",
       "                ^\n",
       "StackTrace: "
      ]
     },
     "execution_count": 5,
     "output_type": "execute_result",
     "metadata": {}
    }
   ],
   "source": [
    "import org.apache.spark._\n",
    "import org.apache.spark.streaming._\n",
    "import StreamingContext._\n",
    "import TutorialHelper._\n",
    "\n",
    "// Location of the Spark directory\n",
    "val sparkHome = \"/root/spark\"\n",
    "\n",
    "// URL of the Spark cluster\n",
    "val sparkUrl = getSparkUrl()\n",
    "\n",
    "// Location of the required JAR files\n",
    "val jarFile = \"target/scala-2.9.3/tutorial_2.9.3-0.1-SNAPSHOT.jar\"\n",
    "\n",
    "// HDFS directory for checkpointing\n",
    "val checkpointDir = TutorialHelper.getHdfsUrl() + \"/checkpoint/\"\n",
    "\n",
    "// Configure Twitter credentials using twitter.txt\n",
    "TutorialHelper.configureTwitterCredentials()\n",
    "\n",
    "// Your code goes here"
   ]
  },
  {
   "cell_type": "code",
   "execution_count": 1,
   "metadata": {},
   "outputs": [
    {
     "data": {
      "text/plain": [
       "Name: Compile Error\n",
       "Message: <console>:18: error: not found: type StreamingContext\n",
       "         val ssc = new StreamingContext(sparkUrl, \"Tutorial\", Seconds(1), sparkHome, Seq(jarFile))\n",
       "                       ^\n",
       "StackTrace: "
      ]
     },
     "execution_count": 1,
     "output_type": "execute_result",
     "metadata": {}
    }
   ],
   "source": [
    "val ssc = new StreamingContext(sparkUrl, \"Tutorial\", Seconds(1), sparkHome, Seq(jarFile))"
   ]
  },
  {
   "cell_type": "code",
   "execution_count": 3,
   "metadata": {},
   "outputs": [
    {
     "data": {
      "text/plain": [
       "Range(1, 2, 3, 4, 5, 6, 7, 8, 9, 10)"
      ]
     },
     "execution_count": 3,
     "output_type": "execute_result",
     "metadata": {}
    }
   ],
   "source": [
    "1 to 10"
   ]
  },
  {
   "cell_type": "code",
   "execution_count": 4,
   "metadata": {},
   "outputs": [],
   "source": [
    "import org.apache.spark.streaming._"
   ]
  },
  {
   "cell_type": "code",
   "execution_count": 6,
   "metadata": {},
   "outputs": [
    {
     "data": {
      "text/plain": [
       "Name: Compile Error\n",
       "Message: <console>:30: error: object twitter is not a member of package org.apache.spark.streaming\n",
       "         import org.apache.spark.streaming.twitter._\n",
       "                                           ^\n",
       "StackTrace: "
      ]
     },
     "execution_count": 6,
     "output_type": "execute_result",
     "metadata": {}
    }
   ],
   "source": [
    "import org.apache.spark.streaming.twitter._\n",
    "\n",
    "TwitterUtils.createStream(ssc, None)"
   ]
  },
  {
   "cell_type": "code",
   "execution_count": null,
   "metadata": {},
   "outputs": [],
   "source": [
    ""
   ]
  }
 ],
 "metadata": {
  "kernelspec": {
   "display_name": "Scala 2.10 (Spark 1.6.0)",
   "language": "scala",
   "name": "toree"
  },
  "language_info": {
   "name": "scala"
  }
 },
 "nbformat": 4,
 "nbformat_minor": 0
}