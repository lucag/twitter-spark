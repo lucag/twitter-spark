{
 "cells": [
  {
   "cell_type": "markdown",
   "metadata": {},
   "source": [
    "## Extract Twitter Handles (@-strings) from training data\n",
    "We want to use them to select tweets."
   ]
  },
  {
   "cell_type": "markdown",
   "metadata": {},
   "source": [
    "Prepare test file for measuring accuracy if the Sentiment Analyzer (in the Scala code). Output JSON objects, one per line."
   ]
  },
  {
   "cell_type": "code",
   "execution_count": 59,
   "metadata": {
    "collapsed": false
   },
   "outputs": [],
   "source": [
    "import sqlite3, codecs\n",
    "from json import dumps\n",
    "\n",
    "conn = sqlite3.connect('../data/airline-twitter-sentiment/database.sqlite')\n",
    "\n",
    "# Turn positive -> +, negative -> -, neuteral -> =.\n",
    "def to_symbol(s):\n",
    "    if s.lower().startswith('pos'): return '+'\n",
    "    elif s.lower().startswith('neg'): return '-'\n",
    "    else: return '='\n",
    "\n",
    "sql = 'select airline_sentiment, text from tweets'\n",
    "\n",
    "js_docs = (dumps({'polarity': to_symbol(polarity), \n",
    "                  'text': text}) \n",
    "           for (polarity, text) in conn.execute(sql))\n",
    "\n",
    "with codecs.open('../data/airline-twitter-sentiment/tweets.json', mode='w+', encoding='utf-8') as os:\n",
    "    os.write(u'\\n'.join(js_docs))"
   ]
  },
  {
   "cell_type": "code",
   "execution_count": 66,
   "metadata": {
    "collapsed": false
   },
   "outputs": [
    {
     "name": "stdout",
     "output_type": "stream",
     "text": [
      "{\"polarity\": \"=\", \"text\": \"@JetBlue's new CEO seeks the right balance to please passengers and Wall ... - Greenfield Daily Reporter http://t.co/LM3opxkxch\"}\r\n",
      "{\"polarity\": \"-\", \"text\": \"@JetBlue is REALLY getting on my nerves !! \\ud83d\\ude21\\ud83d\\ude21 #nothappy\"}\r\n",
      "{\"polarity\": \"-\", \"text\": \"@united yes. We waited in line for almost an hour to do so. Some passengers just left not wanting to wait past 1am.\"}\r\n",
      "{\"polarity\": \"-\", \"text\": \"@united the we got into the gate at IAH on time and have given our seats and closed the flight. If you know people is arriving, have to wait\"}\r\n",
      "{\"polarity\": \"-\", \"text\": \"@SouthwestAir its cool that my bags take a bit longer, dont give me baggage blue balls-turn the carousel on, tell me it's coming, then not.\"}\r\n",
      "{\"polarity\": \"-\", \"text\": \"@united and don't hope for me having a nicer flight some other time, try to do things right. You sold me those tickets with that connetion\"}\r\n",
      "{\"polarity\": \"-\", \"text\": \"@united I like delays less than you because I'm the one on the plane. Connect me with a voucher\"}\r\n",
      "{\"polarity\": \"-\", \"text\": \"@united, link to current status of flights/airports? Fly BWI-EWR-MCO this morning yet can't yet tell what any problems are except see snow.\"}\r\n",
      "{\"polarity\": \"-\", \"text\": \"@SouthwestAir you guys there? Are we on hour 2 of our phone hold at 3am bc of volume or short staffing?\"}\r\n",
      "{\"polarity\": \"-\", \"text\": \"@united I tried 2 DM it would not go thru... not sure why\"}\r\n"
     ]
    }
   ],
   "source": [
    "!head ../data/airline-twitter-sentiment/tweets.json"
   ]
  },
  {
   "cell_type": "code",
   "execution_count": null,
   "metadata": {
    "collapsed": false
   },
   "outputs": [],
   "source": [
    "import re\n",
    "from itertools import chain\n",
    "from operator import concat\n",
    "from string import split\n",
    "\n",
    "def flatmap(f, sequence):\n",
    "    \"Apply a function that returns a sequence concatenating the results\"\n",
    "    return reduce(concat, map(f, sequence))\n",
    "\n",
    "\n",
    "handle_pat = re.compile(r'@\\w+')\n",
    "handles = set(flatmap(handle_pat.findall, messages))"
   ]
  },
  {
   "cell_type": "code",
   "execution_count": null,
   "metadata": {
    "collapsed": true
   },
   "outputs": [],
   "source": [
    "handles"
   ]
  },
  {
   "cell_type": "code",
   "execution_count": 34,
   "metadata": {
    "collapsed": false
   },
   "outputs": [],
   "source": [
    "import re\n",
    "from itertools import ifilter\n",
    "\n",
    "def lines(it):\n",
    "    return ifilter(None, (item.rstrip() for item in it))\n",
    "\n",
    "conf = {k: v for k, v in map(lambda l: re.split(r'\\s+=\\s+', l), \n",
    "                             filter(lambda l: l, lines(open('../etc/twitter.conf'))))}"
   ]
  },
  {
   "cell_type": "code",
   "execution_count": 35,
   "metadata": {
    "collapsed": false
   },
   "outputs": [],
   "source": [
    "import tweepy\n",
    "\n",
    "auth = tweepy.OAuthHandler(conf['twitter4j.oauth.consumerKey'], conf['twitter4j.oauth.consumerSecret'])\n",
    "auth.set_access_token(conf['twitter4j.oauth.accessToken'], conf['twitter4j.oauth.accessTokenSecret'])\n",
    "\n",
    "# Construct the API instance\n",
    "api = tweepy.API(auth)"
   ]
  },
  {
   "cell_type": "code",
   "execution_count": 39,
   "metadata": {
    "collapsed": false,
    "scrolled": true
   },
   "outputs": [],
   "source": [
    "import string \n",
    "handles = [v.lower() for _, v in map(lambda l: l.split(','), lines(open('../data/airline-twitter-sentiment/airline-handles')))]"
   ]
  },
  {
   "cell_type": "code",
   "execution_count": 43,
   "metadata": {
    "collapsed": false
   },
   "outputs": [],
   "source": [
    "class MyStreamListener(tweepy.StreamListener):\n",
    "    \"\"\"Override tweepy.StreamListener to add logic.\n",
    "    \"\"\"    \n",
    "    def on_status(self, status):\n",
    "        print (status.text, status.entities)\n",
    "    \n",
    "    def on_error(self, status_code):\n",
    "        if status_code == 420:\n",
    "            # returning False in on_data disconnects the stream\n",
    "            return False"
   ]
  },
  {
   "cell_type": "code",
   "execution_count": 45,
   "metadata": {
    "collapsed": false
   },
   "outputs": [],
   "source": [
    "myStreamListener = MyStreamListener()\n",
    "myStream = tweepy.Stream(auth = api.auth, listener=myStreamListener)"
   ]
  },
  {
   "cell_type": "code",
   "execution_count": 46,
   "metadata": {
    "collapsed": false
   },
   "outputs": [],
   "source": [
    "myStream.filter(track=handles, languages=['en'], async=True)"
   ]
  },
  {
   "cell_type": "code",
   "execution_count": 55,
   "metadata": {
    "collapsed": false
   },
   "outputs": [],
   "source": [
    "myStream.disconnect()"
   ]
  },
  {
   "cell_type": "code",
   "execution_count": 56,
   "metadata": {
    "collapsed": false
   },
   "outputs": [
    {
     "data": {
      "text/plain": [
       "False"
      ]
     },
     "execution_count": 56,
     "metadata": {},
     "output_type": "execute_result"
    }
   ],
   "source": [
    "myStream.running"
   ]
  },
  {
   "cell_type": "code",
   "execution_count": null,
   "metadata": {
    "collapsed": false
   },
   "outputs": [],
   "source": [
    "myStream.listener.on_status(None)"
   ]
  },
  {
   "cell_type": "code",
   "execution_count": 48,
   "metadata": {
    "collapsed": false
   },
   "outputs": [
    {
     "name": "stdout",
     "output_type": "stream",
     "text": [
      "(u'RT @big_yummy: Hey .@AmericanAir thanks to the gross incompetence of you ODR staff, I just missed my flight!  Thanks a lot! #nexttimeSWA .@\\u2026', {u'user_mentions': [{u'id': 382126710, u'indices': [3, 13], u'id_str': u'382126710', u'screen_name': u'big_yummy', u'name': u'Lincoln Lobley'}, {u'id': 22536055, u'indices': [20, 32], u'id_str': u'22536055', u'screen_name': u'AmericanAir', u'name': u'American Airlines'}, {u'id': 7212562, u'indices': [139, 140], u'id_str': u'7212562', u'screen_name': u'SouthwestAir', u'name': u'Southwest Airlines'}], u'symbols': [], u'hashtags': [{u'indices': [124, 136], u'text': u'nexttimeSWA'}], u'urls': []})\n",
      "(u'@AmericanAir Any reason why customer relations would just...stop responding?  Because this whole process has been a disaster.', {u'user_mentions': [{u'id': 22536055, u'indices': [0, 12], u'id_str': u'22536055', u'screen_name': u'AmericanAir', u'name': u'American Airlines'}], u'symbols': [], u'hashtags': [], u'urls': []})\n"
     ]
    }
   ],
   "source": [
    "open('../var/tweets')"
   ]
  },
  {
   "cell_type": "code",
   "execution_count": null,
   "metadata": {
    "collapsed": true
   },
   "outputs": [],
   "source": []
  }
 ],
 "metadata": {
  "kernelspec": {
   "display_name": "Python 2",
   "language": "python",
   "name": "python2"
  },
  "language_info": {
   "codemirror_mode": {
    "name": "ipython",
    "version": 2
   },
   "file_extension": ".py",
   "mimetype": "text/x-python",
   "name": "python",
   "nbconvert_exporter": "python",
   "pygments_lexer": "ipython2",
   "version": "2.7.11"
  }
 },
 "nbformat": 4,
 "nbformat_minor": 0
}
