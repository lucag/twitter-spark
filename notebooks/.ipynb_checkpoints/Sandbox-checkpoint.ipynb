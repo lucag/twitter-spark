{
 "cells": [
  {
   "cell_type": "markdown",
   "metadata": {},
   "source": [
    "## Extract @-strings from training data\n",
    "We want to use them to select tweets."
   ]
  },
  {
   "cell_type": "code",
   "execution_count": 4,
   "metadata": {
    "collapsed": false
   },
   "outputs": [],
   "source": [
    "import sqlite3\n",
    "\n",
    "conn = sqlite3.connect('../data/airline-twitter-sentiment/database.sqlite')\n",
    "messages = (text for (text,) in conn.execute('select text from tweets'))\n",
    "\n",
    "from itertools import chain\n",
    "from operator import concat\n",
    "\n",
    "def flatmap(f, sequence):\n",
    "    \"Apply a function that returns a sequence concatenating the results\"\n",
    "    return reduce(concat, sequence)\n",
    "\n",
    "\n",
    "at_strings = set(flatmap()"
   ]
  },
  {
   "cell_type": "code",
   "execution_count": 5,
   "metadata": {
    "collapsed": false
   },
   "outputs": [
    {
     "data": {
      "text/plain": [
       "[u\"@JetBlue's new CEO seeks the right balance to please passengers and Wall ... - Greenfield Daily Reporter http://t.co/LM3opxkxch\",\n",
       " u'@JetBlue is REALLY getting on my nerves !! \\U0001f621\\U0001f621 #nothappy',\n",
       " u'@united yes. We waited in line for almost an hour to do so. Some passengers just left not wanting to wait past 1am.',\n",
       " u'@united the we got into the gate at IAH on time and have given our seats and closed the flight. If you know people is arriving, have to wait',\n",
       " u\"@SouthwestAir its cool that my bags take a bit longer, dont give me baggage blue balls-turn the carousel on, tell me it's coming, then not.\",\n",
       " u\"@united and don't hope for me having a nicer flight some other time, try to do things right. You sold me those tickets with that connetion\",\n",
       " u\"@united I like delays less than you because I'm the one on the plane. Connect me with a voucher\",\n",
       " u\"@united, link to current status of flights/airports? Fly BWI-EWR-MCO this morning yet can't yet tell what any problems are except see snow.\",\n",
       " u'@SouthwestAir you guys there? Are we on hour 2 of our phone hold at 3am bc of volume or short staffing?',\n",
       " u'@united I tried 2 DM it would not go thru... not sure why',\n",
       " u'Wanted to get my bag benefit, but instead get $25 pricing on all three tickets. When adding a card, MP Visa is only option. @united',\n",
       " u\"@united please see a flight attendant for what? Why isn't there enough room for over head bags? I carry on to save time!!!\",\n",
       " u'@united still waiting for a reply',\n",
       " u'@united even though technically after I land I will be silver?',\n",
       " u\"@USAirways how's us 1797 looking today?\",\n",
       " u'@SouthwestAir nice work on the update!',\n",
       " u\"@united i have items of sentimental value that I'm heartbroken are missing\",\n",
       " u'@SouthwestAir We have been stuck in SJU for several hours and no one is answering here. Really tough to LUV SW. No response is bad.',\n",
       " u'@JetBlue CEO weighs profits, flyers - @ChronicleHerald (registration) http://t.co/l2n0egHdgn',\n",
       " u\"@USAirways @AmericanAir How r u supposed to change flights when u can't get thru to reservations? #OneHourOnHold\",\n",
       " u\"@JetBlue Thanks! Her flight leaves at 2 but she's arriving to the airport early. Wedding is in VT in Sept. Grateful you fly to BTV!! :)\",\n",
       " u'@United is officially the worst, most delayed, and least helpful airline I have ever had the misfortune of flying on',\n",
       " u\"@SouthwestAir won't answer their phones #HorribleService #NeverAgain #frustrated #AnswerThePhone\",\n",
       " u'@USAirways reservations had me on hold for 2 hours only to hang up...smh \\U0001f615',\n",
       " u'@JetBlue No worries. Delay was minor and dealt with nicely. It was captain of flight 2324 by the way.',\n",
       " u\"@SouthwestAir Is it a temporary site glitch or are you no longer offering flights from GRR to GEG after Feb? Can't find any online :(\",\n",
       " u'@united clicked on the link and got this? #confused http://t.co/xMAQcucWZl',\n",
       " u\"@SouthwestAir Guys, we've got to do something about the inability to check in online for international  flight that has... (1/2)\",\n",
       " u\"@SouthwestAir flight was Cancelled Flightled and it won't let me rebook online. Wait time on phone is too long. Please help\",\n",
       " u'@JetBlue really caring??',\n",
       " u'@SouthwestAir allows other passengers 2 harass u after their gate agents mistakeFURIOUS they are doing NOTHING about it &amp; my 6yo was scared',\n",
       " u\"@SouthwestAir  this is really unhelpful. Why can't I rebook online? http://t.co/N5O43sVl8i\",\n",
       " u\"@JetBlue sitting on the plane in JFK waiting to take off doors are open catering is stocking up we are delayed but they couldn't be nicer\",\n",
       " u'@JetBlue A flight delay due to pilots oversleeping is apparently an uncontrollable irregularity that is not eligible for delay compensation.',\n",
       " u'.@USAirways we have no choice but to pay another $50 to go to the airport in the hopes that we will be treated better by a rep.',\n",
       " u'@united New Apple cr\\xe2pe, amazing! Live from UA1207. Really nice crew too.  #AmericanAir has biscuits, UA needs them 2 http://t.co/gZ9GqDT7Jj',\n",
       " u'@SouthwestAir on hold for 2 hours and then you hung up 3 Cancelled Flightled flights. Running out of daycare for our kids who are trapped at home.',\n",
       " u\".@united call my work and tell them it's your fault I'm Late Flight\",\n",
       " u'@SouthwestAir why have you guys jacked up the prices AFTER you said prices were going to be lowered? SMH',\n",
       " u'@USAirways I have been on hold with your Gold reservations line for OVER 3 HOURS now. Flight Cancelled Flightled. Trying to rebook.',\n",
       " u'@united how much does it cost to check in an additional bag? Traveling from newark to glasgow. Thank you :)',\n",
       " u'@USAirways we are on the 2pm flight FLL to PHL and then connection to MAN. However, with the delays we might miss it. Can we go earlier?',\n",
       " u'@SouthwestAir thanks do yall expect to be operational tomorrow out of Nashville?',\n",
       " u\"@SouthwestAir husband on hold 2.5 hrs, got disconnected!New wait 30 min. Can't confirm res due to the fact he booked on line! Nuts!\",\n",
       " u\"@united Broken entertainment system on my 8 hour NYC flight, terrible cabin crew service and online complaint form won't work #hopeless\",\n",
       " u'@united last night we waited forever at the gate because someone from corporate dispatch FORGOT to call the crew #unfriendlyskies',\n",
       " u'@SouthwestAir Hoping you answer the phone today?',\n",
       " u'@SouthwestAir been on hold for &gt;30 minutes about my Cancelled Flightled flight. Still not talked to anyone and flight is soon. What gives?',\n",
       " u'@JetBlue CEO weighs profits, flyers - @ChronicleHerald (registration) http://t.co/9vKj9S7jrM',\n",
       " u'@United - Ridiculous to fly outdated 757s anywhere much less btwn IAH and SFO. No power ports, no  Wifi, no personal entertainment. TORTURE',\n",
       " u\"@SouthwestAir the last 4 times I've arrived @LASairport our gate has been blocked by a slow to depart plane leading to 30-60 min delays\",\n",
       " u'@united what if business as usual meant dropping the bully mentality and fostering inspiration for a greater business #EmployeeRelations',\n",
       " u'@southwestair - kind of early but any idea when dates through the first week of sept will come available?',\n",
       " u'@USAirways your service has been awful in Boston and I had to pay 25 extra dollars than I was supposed too I am very dissatisfied #mad',\n",
       " u'@JetBlue I hear that the new thing in your planes are the Fly-Fi. How I can check if the flight that Im going to take have it?',\n",
       " u\"@SouthwestAir Guys for real. I've been on hold for 4+ hours including one hangup. Please have someone reach out so I can get my $ back.\",\n",
       " u\"@USAirways great job today In ruining 45 people's vacation. Thanks to your incompetent pilot and staff we have all now missed our flights\",\n",
       " u\"@SouthwestAir can't update my flight online bc it's been Cancelled Flighted twice already. Going on hour 2 on hold.\",\n",
       " u\"@SouthwestAir I'm showing flight 4720 delayed again. Would my boarding pass still be good or was my seat given away?\",\n",
       " u'@JetBlue please provide me your direct email for me to explain.',\n",
       " u'@SouthwestAir tried to rebook online but it says that I have to pay $200 for difference in price. Please help',\n",
       " u'@SouthwestAir Beautiful, thanks a ton!',\n",
       " u'@SouthwestAir Cancelled Flightled my flight out of BNA today. Been on hold for an hour. \\U0001f620 #frustrated!',\n",
       " u'\\u201c@SouthwestAir:Southwest mobile boarding passes now available in iOS Passbook! http://t.co/xmRvR4lGEg http://t.co/wJoc9f14SU\\u201d@tori_leggieri',\n",
       " u'@SouthwestAir Can you link the article where it says the routes and what times the routes are likely to be? Like TUL-DAL 1:00PM - 7 None',\n",
       " u'@USAirways I\\u2019ve had my flight Cancelled Flightled twice now, and after 5 minutes of automated questions, the phone just goes to a busy signal. Help?',\n",
       " u\". @USAirways It's been Cancelled Flighted. Your SM response is slow.\",\n",
       " u'@SouthwestAir Hi-My flight (BNA to LGA) was Cancelled Flighted this morning--#1814. Looks like other flights out of BNA are taking off. Any chance?',\n",
       " u'@USAirways Almost 4 hours and coin now. Understand higher call volume, but this is unacceptable.',\n",
       " u'@SouthwestAir I need updates on my flights 464 &amp; 3574. I have been on hold for over 2 hours.',\n",
       " u\"@SouthwestAir has the WORST customer service of any airline I've ever flown.\",\n",
       " u'@SouthwestAir Where should I fly by May 3rd? Plz advise.',\n",
       " u'@SouthwestAir trying to get through to cust relations. Is there another # to use?',\n",
       " u'@SouthwestAir finally!',\n",
       " u'@SouthwestAir + @twitter  = outstanding customer service!  Thank you!',\n",
       " u'@SouthwestAir tried online and told I must call b/c of modifications to my reservation. Been on hold for almost 2 hours.',\n",
       " u'@SouthwestAir discount for three delays?',\n",
       " u'@united THRILLED to have my carry-on checked against my will by two nasty gate agents only to see an entire empty bin when I boarded last...',\n",
       " u\"@USAirways can't even get on hold to wait to speak to someone-awesome\",\n",
       " u'@JetBlue to offer service from Daytona Beach to New York - Albany Business Review http://t.co/dUhBJ41jHx',\n",
       " u'@united You know what the United Club needs? Power. MOAR power. Insufficient outlets for the #RoadWarrior (ORD)',\n",
       " u\"@SouthwestAir almost 2 hours on hold, 2 hours of my life I can't get back.... Thanks http://t.co/IyUZM2PUVS\",\n",
       " u'@USAirways You need to contact me ASAP. #Furious',\n",
       " u'@SouthwestAir too bad I\\'m getting this memo: \"Your reservation contains modifications that prevent you from changing it online.\" #FUSTURATED',\n",
       " u\"@JetBlue Is today's JetBlue Flight 918 (NYC-&gt;BOS) delayed? My app says on time and the website says it's not...\",\n",
       " u'@USAirways it was supposed to be a carry on and in Pittsburgh  coming to Boston it was a carry on',\n",
       " u\"@united didn't get her name. She was not in our group. She was sitting behind us. Think it was window seat #40? We only overheard...\",\n",
       " u\"Yes, I filed a report in Atlanta. My bags are in Charlotte, NC. 24 hours Late Flightr and still can't find my luggage ... @USAirways\",\n",
       " u'@SouthwestAir  Thank you.',\n",
       " u'@USAirways it takes a month?',\n",
       " u'@USAirways thanks for the reply, hoping everything is cleared up in Charlotte by Monday',\n",
       " u\"@USAirways @AmericanAir you make Spirit look like the gem of air travel. You haven't handle this winter storm very well...\",\n",
       " u\"@JetBlue what's the link for #FlyFi\",\n",
       " u\".@united nothing apparently. I've flown w/ you 4 times in last 3 weeks and 3 of those experiences (incl today) were clusterfucks.\",\n",
       " u'\\u201c@VirginAmerica: Book out of town with fares from $59/way (+restr). http://t.co/xRdTOV7nl8 http://t.co/4Y78byAckc\\u201d @JenniferDawnPro',\n",
       " u'@USAirways your chairmans phone is down. what other number can i use?',\n",
       " u\"@USAirways How soon is possible? I boarded the plane the 1st time at 6:30 am and it is now after 11:30 am and I'm still where I started.\",\n",
       " u'@USAirways  well its 11:45am and just got an email that my 11am flight is delayed-thats not right',\n",
       " u'@united why am i mot getting my refund?',\n",
       " u\"@JetBlue Can't view seat selection/change seat for flight tomorrow. Can you look into this?\"]"
      ]
     },
     "execution_count": 5,
     "metadata": {},
     "output_type": "execute_result"
    }
   ],
   "source": [
    "messages[:100]"
   ]
  },
  {
   "cell_type": "code",
   "execution_count": null,
   "metadata": {
    "collapsed": true
   },
   "outputs": [],
   "source": []
  }
 ],
 "metadata": {
  "kernelspec": {
   "display_name": "Python 2",
   "language": "python",
   "name": "python2"
  },
  "language_info": {
   "codemirror_mode": {
    "name": "ipython",
    "version": 2
   },
   "file_extension": ".py",
   "mimetype": "text/x-python",
   "name": "python",
   "nbconvert_exporter": "python",
   "pygments_lexer": "ipython2",
   "version": "2.7.11"
  }
 },
 "nbformat": 4,
 "nbformat_minor": 0
}
