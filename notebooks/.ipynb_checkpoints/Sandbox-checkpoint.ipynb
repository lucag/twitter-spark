{
 "cells": [
  {
   "cell_type": "markdown",
   "metadata": {},
   "source": [
    "## Extract Twitter Handles (@-strings) from training data\n",
    "We want to use them to select tweets."
   ]
  },
  {
   "cell_type": "markdown",
   "metadata": {},
   "source": [
    "Prepare test file for measuring accuracy if the Sentiment Analyzer (in the Scala code). Output JSON objects, one per line."
   ]
  },
  {
   "cell_type": "code",
   "execution_count": 2,
   "metadata": {
    "collapsed": true
   },
   "outputs": [],
   "source": [
    "import sqlite3, codecs\n",
    "from json import dumps\n",
    "\n",
    "conn = sqlite3.connect('../data/airline-twitter-sentiment/database.sqlite')"
   ]
  },
  {
   "cell_type": "code",
   "execution_count": 59,
   "metadata": {
    "collapsed": false
   },
   "outputs": [],
   "source": [
    "# Turn positive -> +, negative -> -, neuteral -> =.\n",
    "def to_symbol(s):\n",
    "    if s.lower().startswith('pos'): return '+'\n",
    "    elif s.lower().startswith('neg'): return '-'\n",
    "    else: return '='\n",
    "\n",
    "sql = 'select airline_sentiment, text from tweets'\n",
    "\n",
    "js_docs = (dumps({'polarity': to_symbol(polarity), \n",
    "                  'text': text}) \n",
    "           for (polarity, text) in conn.execute(sql))\n",
    "\n",
    "with codecs.open('../data/airline-twitter-sentiment/tweets.json', mode='w+', encoding='utf-8') as os:\n",
    "    os.write(u'\\n'.join(js_docs))"
   ]
  },
  {
   "cell_type": "code",
   "execution_count": 135,
   "metadata": {
    "collapsed": false
   },
   "outputs": [
    {
     "name": "stdout",
     "output_type": "stream",
     "text": [
      "{\"polarity\": \"=\", \"text\": \"@JetBlue's new CEO seeks the right balance to please passengers and Wall ... - Greenfield Daily Reporter http://t.co/LM3opxkxch\"}\r\n",
      "{\"polarity\": \"-\", \"text\": \"@JetBlue is REALLY getting on my nerves !! \\ud83d\\ude21\\ud83d\\ude21 #nothappy\"}\r\n",
      "{\"polarity\": \"-\", \"text\": \"@united yes. We waited in line for almost an hour to do so. Some passengers just left not wanting to wait past 1am.\"}\r\n",
      "{\"polarity\": \"-\", \"text\": \"@united the we got into the gate at IAH on time and have given our seats and closed the flight. If you know people is arriving, have to wait\"}\r\n",
      "{\"polarity\": \"-\", \"text\": \"@SouthwestAir its cool that my bags take a bit longer, dont give me baggage blue balls-turn the carousel on, tell me it's coming, then not.\"}\r\n"
     ]
    }
   ],
   "source": [
    "!head -n 5 ../data/airline-twitter-sentiment/tweets.json"
   ]
  },
  {
   "cell_type": "markdown",
   "metadata": {},
   "source": [
    "The following file is the output of `ErrorTest.process` (in `src/main/scala/BasicTask.scala`) with the above file as input."
   ]
  },
  {
   "cell_type": "code",
   "execution_count": 16,
   "metadata": {
    "collapsed": false
   },
   "outputs": [
    {
     "name": "stdout",
     "output_type": "stream",
     "text": [
      "   14485 ../data/airline-twitter-sentiment/analyzed.json\r\n"
     ]
    }
   ],
   "source": [
    "!wc -l ../data/airline-twitter-sentiment/analyzed.json"
   ]
  },
  {
   "cell_type": "code",
   "execution_count": 136,
   "metadata": {
    "collapsed": false
   },
   "outputs": [],
   "source": [
    "from json import loads\n",
    "with open('../data/airline-twitter-sentiment/analyzed.json', encoding='utf-8') as lines:\n",
    "    s = lines.read()"
   ]
  },
  {
   "cell_type": "code",
   "execution_count": 137,
   "metadata": {
    "collapsed": false
   },
   "outputs": [
    {
     "data": {
      "text/plain": [
       "14485"
      ]
     },
     "execution_count": 137,
     "metadata": {},
     "output_type": "execute_result"
    }
   ],
   "source": [
    "jss = [loads(l, encoding='utf-8') for l in s.split('\\n') if l]\n",
    "len(jss)"
   ]
  },
  {
   "cell_type": "code",
   "execution_count": 126,
   "metadata": {
    "collapsed": false
   },
   "outputs": [],
   "source": [
    "import pandas as pd"
   ]
  },
  {
   "cell_type": "code",
   "execution_count": 153,
   "metadata": {
    "collapsed": false
   },
   "outputs": [
    {
     "data": {
      "text/plain": [
       "14485"
      ]
     },
     "execution_count": 153,
     "metadata": {},
     "output_type": "execute_result"
    }
   ],
   "source": [
    "jss_df = pd.DataFrame(jss)\n",
    "N = len(jss_df); N"
   ]
  },
  {
   "cell_type": "markdown",
   "metadata": {},
   "source": [
    "A small sample of the test Tweets:"
   ]
  },
  {
   "cell_type": "code",
   "execution_count": 134,
   "metadata": {
    "collapsed": false
   },
   "outputs": [
    {
     "data": {
      "text/html": [
       "<div>\n",
       "<table border=\"1\" class=\"dataframe\">\n",
       "  <thead>\n",
       "    <tr style=\"text-align: right;\">\n",
       "      <th></th>\n",
       "      <th>polarity</th>\n",
       "      <th>sentiment</th>\n",
       "      <th>text</th>\n",
       "    </tr>\n",
       "  </thead>\n",
       "  <tbody>\n",
       "    <tr>\n",
       "      <th>1016</th>\n",
       "      <td>=</td>\n",
       "      <td>2.000000</td>\n",
       "      <td>@USAirways and if the flight is full?</td>\n",
       "    </tr>\n",
       "    <tr>\n",
       "      <th>10823</th>\n",
       "      <td>-</td>\n",
       "      <td>1.800000</td>\n",
       "      <td>@united. epic fail. @reagan. no jetway. been h...</td>\n",
       "    </tr>\n",
       "    <tr>\n",
       "      <th>9262</th>\n",
       "      <td>-</td>\n",
       "      <td>1.500000</td>\n",
       "      <td>@USAirways thanks for three Cancelled Flightle...</td>\n",
       "    </tr>\n",
       "    <tr>\n",
       "      <th>5597</th>\n",
       "      <td>=</td>\n",
       "      <td>1.500000</td>\n",
       "      <td>@JetBlue If you'd love to see more girls be in...</td>\n",
       "    </tr>\n",
       "    <tr>\n",
       "      <th>1587</th>\n",
       "      <td>-</td>\n",
       "      <td>1.000000</td>\n",
       "      <td>@USAirways No reFlight Booking Problems necess...</td>\n",
       "    </tr>\n",
       "    <tr>\n",
       "      <th>11279</th>\n",
       "      <td>-</td>\n",
       "      <td>1.000000</td>\n",
       "      <td>@united Awesome flight crew on UA1589, re the ...</td>\n",
       "    </tr>\n",
       "    <tr>\n",
       "      <th>7903</th>\n",
       "      <td>-</td>\n",
       "      <td>2.000000</td>\n",
       "      <td>@united direct messages not going through plea...</td>\n",
       "    </tr>\n",
       "    <tr>\n",
       "      <th>13349</th>\n",
       "      <td>-</td>\n",
       "      <td>2.000000</td>\n",
       "      <td>@united according to your DMs, I'm not owed a ...</td>\n",
       "    </tr>\n",
       "    <tr>\n",
       "      <th>13935</th>\n",
       "      <td>+</td>\n",
       "      <td>3.000000</td>\n",
       "      <td>@AmericanAir if I could fly an md80/dc10 I wou...</td>\n",
       "    </tr>\n",
       "    <tr>\n",
       "      <th>6055</th>\n",
       "      <td>-</td>\n",
       "      <td>1.000000</td>\n",
       "      <td>@united U BUMS HOW DO U LOSE THE BIGGEST BAG O...</td>\n",
       "    </tr>\n",
       "    <tr>\n",
       "      <th>12132</th>\n",
       "      <td>-</td>\n",
       "      <td>1.666667</td>\n",
       "      <td>@USAirways been on hold for 45 minutes. Is the...</td>\n",
       "    </tr>\n",
       "    <tr>\n",
       "      <th>6688</th>\n",
       "      <td>=</td>\n",
       "      <td>1.000000</td>\n",
       "      <td>@SouthwestAir Just sent DM with confirmation n...</td>\n",
       "    </tr>\n",
       "    <tr>\n",
       "      <th>6340</th>\n",
       "      <td>+</td>\n",
       "      <td>2.000000</td>\n",
       "      <td>@united Rhonda C. at Atlanta airport redeemed ...</td>\n",
       "    </tr>\n",
       "    <tr>\n",
       "      <th>14445</th>\n",
       "      <td>=</td>\n",
       "      <td>1.000000</td>\n",
       "      <td>@VirginAmerica What @dhepburn said.</td>\n",
       "    </tr>\n",
       "    <tr>\n",
       "      <th>7570</th>\n",
       "      <td>+</td>\n",
       "      <td>1.500000</td>\n",
       "      <td>@SouthwestAir Although the wait was long due t...</td>\n",
       "    </tr>\n",
       "  </tbody>\n",
       "</table>\n",
       "</div>"
      ],
      "text/plain": [
       "      polarity  sentiment                                               text\n",
       "1016         =   2.000000              @USAirways and if the flight is full?\n",
       "10823        -   1.800000  @united. epic fail. @reagan. no jetway. been h...\n",
       "9262         -   1.500000  @USAirways thanks for three Cancelled Flightle...\n",
       "5597         =   1.500000  @JetBlue If you'd love to see more girls be in...\n",
       "1587         -   1.000000  @USAirways No reFlight Booking Problems necess...\n",
       "11279        -   1.000000  @united Awesome flight crew on UA1589, re the ...\n",
       "7903         -   2.000000  @united direct messages not going through plea...\n",
       "13349        -   2.000000  @united according to your DMs, I'm not owed a ...\n",
       "13935        +   3.000000  @AmericanAir if I could fly an md80/dc10 I wou...\n",
       "6055         -   1.000000  @united U BUMS HOW DO U LOSE THE BIGGEST BAG O...\n",
       "12132        -   1.666667  @USAirways been on hold for 45 minutes. Is the...\n",
       "6688         =   1.000000  @SouthwestAir Just sent DM with confirmation n...\n",
       "6340         +   2.000000  @united Rhonda C. at Atlanta airport redeemed ...\n",
       "14445        =   1.000000                @VirginAmerica What @dhepburn said.\n",
       "7570         +   1.500000  @SouthwestAir Although the wait was long due t..."
      ]
     },
     "execution_count": 134,
     "metadata": {},
     "output_type": "execute_result"
    }
   ],
   "source": [
    "jss_df.sample(15)"
   ]
  },
  {
   "cell_type": "markdown",
   "metadata": {},
   "source": [
    "A small sanity check: we want to get an idea of how the system has labeled the data."
   ]
  },
  {
   "cell_type": "code",
   "execution_count": 132,
   "metadata": {
    "collapsed": false
   },
   "outputs": [],
   "source": [
    "def sentiment(pol):\n",
    "    return jss_df[jss_df['polarity'] == pol]['sentiment']\n",
    "    \n",
    "def mean_std(df):\n",
    "    m, s = df.mean(), df.std()\n",
    "    return m - s, m, m + s\n",
    "\n",
    "desc = [mean_std(s) for s in map(sentiment, ('-', '=', '+'))]"
   ]
  },
  {
   "cell_type": "markdown",
   "metadata": {},
   "source": [
    "The Stanford sentiment analzer has four lables (from 1 to 4). These are the $(\\bar{x_i} - \\sigma, \\bar{x_i}, \\bar{x_i} + \\sigma)$ tuples for the negative, neutral and positive polarity items:"
   ]
  },
  {
   "cell_type": "code",
   "execution_count": 133,
   "metadata": {
    "collapsed": false
   },
   "outputs": [
    {
     "data": {
      "text/plain": [
       "[(0.95509820978792059, 1.4426183135663428, 1.9301384173447651),\n",
       " (1.0485336944830861, 1.6355839501000793, 2.2226342057170725),\n",
       " (1.5285735260682785, 2.2019647447668018, 2.8753559634653252)]"
      ]
     },
     "execution_count": 133,
     "metadata": {},
     "output_type": "execute_result"
    }
   ],
   "source": [
    "desc"
   ]
  },
  {
   "cell_type": "markdown",
   "metadata": {},
   "source": [
    "## Accuracy\n",
    "\n",
    "We compute here the score according to the guidelines for Semeval 2015, task 10, subtask B:\n",
    "\n",
    "> **Subtask B**: Message Polarity Classification: Given a message, classify whether the message is of positive, negative, or neutral sentiment. For messages conveying both a positive and negative sentiment, whichever is the stronger sentiment should be chosen.\n",
    "\n",
    "The score is $$ \\frac{F_1^{pos} + F_1^{neg}}{2}. $$\n",
    "\n",
    "Since the Stanford sentment analyzer returns five labels from 0 to 4 (strongly negative, negative, neutral, positive, strongly positive), but seems more than a bit biased towards the lower end of the spectrum, I'm using a rather arbitary 2.0 as the cutoff between the two classes. "
   ]
  },
  {
   "cell_type": "code",
   "execution_count": 152,
   "metadata": {
    "collapsed": false
   },
   "outputs": [
    {
     "name": "stdout",
     "output_type": "stream",
     "text": [
      "Score Semeval 2015: 66.31%\n"
     ]
    }
   ],
   "source": [
    "def prec_rec(true_p, predict_p):\n",
    "    \"\"\"Takes two predicates that evaluate a true and predicted\n",
    "    retrult, and returns a tuple with precision and recall.\n",
    "    \"\"\"\n",
    "    true_count, predict_count, correct_count = 0, 0, 0\n",
    "    for js in jss:\n",
    "        if true_p(js):\n",
    "            true_count += 1\n",
    "        if predict_p(js):\n",
    "            predict_count += 1\n",
    "        if true_p(js) and predict_p(js):\n",
    "            correct_count += 1\n",
    "#     print(true_count, predict_count, correct_count)\n",
    "    return correct_count / predict_count, correct_count / true_count\n",
    "\n",
    "cutoff = 2.0\n",
    "true_pos = lambda js: js['polarity'] == '+'\n",
    "pred_pos = lambda js: js['sentiment'] > cutoff\n",
    "\n",
    "true_neg = lambda js: js['polarity'] == '-'\n",
    "pred_neg = lambda js: js['sentiment'] <= cutoff\n",
    "\n",
    "def F1(true_p, pred_p):\n",
    "    p, r = prec_rec(true_p, pred_p) \n",
    "    return 2 * p * r / (p + r)\n",
    "\n",
    "F1_pos = F1(true_pos, pred_pos)\n",
    "F1_neg = F1(true_neg, pred_neg)\n",
    "\n",
    "score = (F1_pos + F1_neg) / 2\n",
    "print('Score Semeval 2015: %.2f%%' % (score * 100))"
   ]
  },
  {
   "cell_type": "markdown",
   "metadata": {},
   "source": [
    "Such score is actually *better* than the ones reported as the [official results](https://docs.google.com/document/d/1WV-XTvQDpuH_IfKrjzeZ361s1ykcskDNNuOV3oI39_c/edit) for the task (they range between 60.77 and 64.84)."
   ]
  },
  {
   "cell_type": "code",
   "execution_count": null,
   "metadata": {
    "collapsed": false
   },
   "outputs": [],
   "source": [
    "import re\n",
    "from itertools import chain\n",
    "from operator import concat\n",
    "from string import split\n",
    "\n",
    "def flatmap(f, sequence):\n",
    "    \"Apply a function that returns a sequence concatenating the results\"\n",
    "    return reduce(concat, map(f, sequence))\n",
    "\n",
    "handle_pat = re.compile(r'@\\w+')\n",
    "handles = set(flatmap(handle_pat.findall, messages))"
   ]
  },
  {
   "cell_type": "code",
   "execution_count": null,
   "metadata": {
    "collapsed": true
   },
   "outputs": [],
   "source": [
    "handles"
   ]
  },
  {
   "cell_type": "code",
   "execution_count": 34,
   "metadata": {
    "collapsed": false
   },
   "outputs": [],
   "source": [
    "import re\n",
    "from itertools import ifilter\n",
    "\n",
    "def lines(it):\n",
    "    return ifilter(None, (item.rstrip() for item in it))\n",
    "\n",
    "conf = {k: v for k, v in map(lambda l: re.split(r'\\s+=\\s+', l), \n",
    "                             filter(lambda l: l, lines(open('../etc/twitter.conf'))))}"
   ]
  },
  {
   "cell_type": "code",
   "execution_count": 35,
   "metadata": {
    "collapsed": false
   },
   "outputs": [],
   "source": [
    "import tweepy\n",
    "\n",
    "auth = tweepy.OAuthHandler(conf['twitter4j.oauth.consumerKey'], conf['twitter4j.oauth.consumerSecret'])\n",
    "auth.set_access_token(conf['twitter4j.oauth.accessToken'], conf['twitter4j.oauth.accessTokenSecret'])\n",
    "\n",
    "# Construct the API instance\n",
    "api = tweepy.API(auth)"
   ]
  },
  {
   "cell_type": "code",
   "execution_count": 39,
   "metadata": {
    "collapsed": false,
    "scrolled": true
   },
   "outputs": [],
   "source": [
    "import string \n",
    "handles = [v.lower() for _, v in map(lambda l: l.split(','), lines(open('../data/airline-twitter-sentiment/airline-handles')))]"
   ]
  },
  {
   "cell_type": "code",
   "execution_count": 43,
   "metadata": {
    "collapsed": false
   },
   "outputs": [],
   "source": [
    "class MyStreamListener(tweepy.StreamListener):\n",
    "    \"\"\"Override tweepy.StreamListener to add logic.\n",
    "    \"\"\"    \n",
    "    def on_status(self, status):\n",
    "        print (status.text, status.entities)\n",
    "    \n",
    "    def on_error(self, status_code):\n",
    "        if status_code == 420:\n",
    "            # returning False in on_data disconnects the stream\n",
    "            return False"
   ]
  },
  {
   "cell_type": "code",
   "execution_count": 45,
   "metadata": {
    "collapsed": false
   },
   "outputs": [],
   "source": [
    "myStreamListener = MyStreamListener()\n",
    "myStream = tweepy.Stream(auth = api.auth, listener=myStreamListener)"
   ]
  },
  {
   "cell_type": "code",
   "execution_count": 46,
   "metadata": {
    "collapsed": false
   },
   "outputs": [],
   "source": [
    "myStream.filter(track=handles, languages=['en'], async=True)"
   ]
  },
  {
   "cell_type": "code",
   "execution_count": 55,
   "metadata": {
    "collapsed": false
   },
   "outputs": [],
   "source": [
    "myStream.disconnect()"
   ]
  },
  {
   "cell_type": "code",
   "execution_count": 56,
   "metadata": {
    "collapsed": false
   },
   "outputs": [
    {
     "data": {
      "text/plain": [
       "False"
      ]
     },
     "execution_count": 56,
     "metadata": {},
     "output_type": "execute_result"
    }
   ],
   "source": [
    "myStream.running"
   ]
  },
  {
   "cell_type": "code",
   "execution_count": null,
   "metadata": {
    "collapsed": false
   },
   "outputs": [],
   "source": [
    "myStream.listener.on_status(None)"
   ]
  },
  {
   "cell_type": "code",
   "execution_count": 48,
   "metadata": {
    "collapsed": false
   },
   "outputs": [
    {
     "name": "stdout",
     "output_type": "stream",
     "text": [
      "(u'RT @big_yummy: Hey .@AmericanAir thanks to the gross incompetence of you ODR staff, I just missed my flight!  Thanks a lot! #nexttimeSWA .@\\u2026', {u'user_mentions': [{u'id': 382126710, u'indices': [3, 13], u'id_str': u'382126710', u'screen_name': u'big_yummy', u'name': u'Lincoln Lobley'}, {u'id': 22536055, u'indices': [20, 32], u'id_str': u'22536055', u'screen_name': u'AmericanAir', u'name': u'American Airlines'}, {u'id': 7212562, u'indices': [139, 140], u'id_str': u'7212562', u'screen_name': u'SouthwestAir', u'name': u'Southwest Airlines'}], u'symbols': [], u'hashtags': [{u'indices': [124, 136], u'text': u'nexttimeSWA'}], u'urls': []})\n",
      "(u'@AmericanAir Any reason why customer relations would just...stop responding?  Because this whole process has been a disaster.', {u'user_mentions': [{u'id': 22536055, u'indices': [0, 12], u'id_str': u'22536055', u'screen_name': u'AmericanAir', u'name': u'American Airlines'}], u'symbols': [], u'hashtags': [], u'urls': []})\n"
     ]
    }
   ],
   "source": [
    "open('../var/tweets')"
   ]
  },
  {
   "cell_type": "code",
   "execution_count": null,
   "metadata": {
    "collapsed": true
   },
   "outputs": [],
   "source": []
  }
 ],
 "metadata": {
  "kernelspec": {
   "display_name": "Python 3",
   "language": "python",
   "name": "python3"
  },
  "language_info": {
   "codemirror_mode": {
    "name": "ipython",
    "version": 3
   },
   "file_extension": ".py",
   "mimetype": "text/x-python",
   "name": "python",
   "nbconvert_exporter": "python",
   "pygments_lexer": "ipython3",
   "version": "3.5.1"
  }
 },
 "nbformat": 4,
 "nbformat_minor": 0
}
