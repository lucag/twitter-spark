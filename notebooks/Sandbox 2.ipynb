{
 "cells": [
  {
   "cell_type": "code",
   "execution_count": 7,
   "metadata": {
    "collapsed": false,
    "urth": {
     "dashboard": {}
    }
   },
   "outputs": [],
   "source": [
    "from __future__ import print_function\n",
    "\n",
    "import os, pandas as pd, numpy as np, dateutil.parser\n",
    "\n",
    "from kafka import KafkaConsumer\n",
    "from operator import concat\n",
    "from json import loads\n",
    "from urth.widgets.widget_channels import channel\n",
    "from datetime import datetime as dt, timedelta as td\n",
    "from dateutil import tz\n",
    "from functools import reduce"
   ]
  },
  {
   "cell_type": "code",
   "execution_count": 8,
   "metadata": {
    "collapsed": true,
    "urth": {
     "dashboard": {}
    }
   },
   "outputs": [],
   "source": [
    "flatten = lambda iterable: reduce(concat, iterable, [])\n",
    "counts = lambda: [loads(x.value) for x in flatten(consumer.poll(100).values())]\n",
    "flip = lambda tpl: tuple(reversed(tpl))"
   ]
  },
  {
   "cell_type": "code",
   "execution_count": 9,
   "metadata": {
    "collapsed": false,
    "urth": {
     "dashboard": {}
    }
   },
   "outputs": [],
   "source": [
    "base = '../data'\n",
    "data_f = os.path.join(base, 'airline-twitter-sentiment', 'airline-handles')\n",
    "airline_handles = pd.DataFrame([flip(l.rstrip().split(',')) for l in open(data_f)],\n",
    "                               columns=['Tweeter Handle', 'Airline Name'])"
   ]
  },
  {
   "cell_type": "code",
   "execution_count": 18,
   "metadata": {
    "collapsed": false,
    "urth": {
     "dashboard": {
      "layout": {
       "col": 8,
       "height": 4,
       "row": 0,
       "width": 4
      }
     }
    }
   },
   "outputs": [
    {
     "data": {
      "text/html": [
       "\n",
       "<link rel=\"import\" \n",
       "     href=\"urth_components/urth-viz-table/urth-viz-table.html\" \n",
       "     is='urth-core-import'>\n",
       "\n",
       "<link rel=\"import\" \n",
       "      href=\"urth_components/urth-viz-chart/urth-viz-chart.html\" \n",
       "      is=\"urth-core-import\">\n",
       "        \n",
       "<link rel='import' \n",
       "      href='urth_components/paper-slider/paper-slider.html' \n",
       "      package='PolymerElements/paper-slider' \n",
       "      is='urth-core-import'>\n",
       "\n",
       "<link rel='import' \n",
       "      href='urth_components/paper-button/paper-button.html' \n",
       "      package='PolymerElements/paper-button' \n",
       "      is='urth-core-import'>\n",
       "\n",
       "<link rel='import' \n",
       "      href='urth_components/paper-progress/paper-progress.html' \n",
       "      package='PolymerElements/paper-progress' \n",
       "      is='urth-core-import'>\n",
       "\n",
       "<link rel='import' \n",
       "      href='urth_components/paper-toggle-button/paper-toggle-button.html' \n",
       "      package='PolymerElements/paper-toggle-button' \n",
       "      is='urth-core-import'>"
      ],
      "text/plain": [
       "<IPython.core.display.HTML object>"
      ]
     },
     "metadata": {},
     "output_type": "display_data"
    }
   ],
   "source": [
    "%%html\n",
    "\n",
    "<link rel=\"import\" \n",
    "     href=\"urth_components/urth-viz-table/urth-viz-table.html\" \n",
    "     is='urth-core-import'>\n",
    "\n",
    "<link rel=\"import\" \n",
    "      href=\"urth_components/urth-viz-chart/urth-viz-chart.html\" \n",
    "      is=\"urth-core-import\">\n",
    "        \n",
    "<link rel='import' \n",
    "      href='urth_components/paper-slider/paper-slider.html' \n",
    "      package='PolymerElements/paper-slider' \n",
    "      is='urth-core-import'>\n",
    "\n",
    "<link rel='import' \n",
    "      href='urth_components/paper-button/paper-button.html' \n",
    "      package='PolymerElements/paper-button' \n",
    "      is='urth-core-import'>\n",
    "\n",
    "<link rel='import' \n",
    "      href='urth_components/paper-progress/paper-progress.html' \n",
    "      package='PolymerElements/paper-progress' \n",
    "      is='urth-core-import'>\n",
    "\n",
    "<link rel='import' \n",
    "      href='urth_components/paper-toggle-button/paper-toggle-button.html' \n",
    "      package='PolymerElements/paper-toggle-button' \n",
    "      is='urth-core-import'>"
   ]
  },
  {
   "cell_type": "code",
   "execution_count": 19,
   "metadata": {
    "collapsed": false
   },
   "outputs": [
    {
     "data": {
      "text/html": [
       "<urth-core-channel id='w' name='counts'></urth-core-channel>\n",
       "<urth-core-channel id='w' name='total_counts'></urth-core-channel>"
      ],
      "text/plain": [
       "<IPython.core.display.HTML object>"
      ]
     },
     "metadata": {},
     "output_type": "display_data"
    }
   ],
   "source": [
    "%%html\n",
    "<urth-core-channel id='w' name='counts'></urth-core-channel>\n",
    "<urth-core-channel id='w' name='total_counts'></urth-core-channel>"
   ]
  },
  {
   "cell_type": "code",
   "execution_count": 11,
   "metadata": {
    "collapsed": false,
    "urth": {
     "dashboard": {
      "layout": {
       "col": 0,
       "height": 16,
       "row": 4,
       "width": 12
      }
     }
    }
   },
   "outputs": [
    {
     "data": {
      "text/html": [
       "<template is='urth-core-bind'>\n",
       "    <urth-core-dataframe id=\"handles\" \n",
       "                         ref=\"airline_handles\" \n",
       "                         value=\"{{ hs }}\" \n",
       "                         auto></urth-core-dataframe>\n",
       "            \n",
       "    <urth-viz-table datarows='[[ hs.data ]]' \n",
       "                    columns='[[ hs.columns ]]' \n",
       "                    selection='[[ sel ]]'></urth-viz-table>\n",
       "</template>"
      ],
      "text/plain": [
       "<IPython.core.display.HTML object>"
      ]
     },
     "metadata": {},
     "output_type": "display_data"
    }
   ],
   "source": [
    "%%html        \n",
    "<template is='urth-core-bind'>\n",
    "    <urth-core-dataframe id=\"handles\" \n",
    "                         ref=\"airline_handles\" \n",
    "                         value=\"{{ hs }}\" \n",
    "                         auto></urth-core-dataframe>\n",
    "            \n",
    "    <urth-viz-table datarows='[[ hs.data ]]' \n",
    "                    columns='[[ hs.columns ]]' \n",
    "                    selection='[[ sel ]]'></urth-viz-table>\n",
    "</template>"
   ]
  },
  {
   "cell_type": "code",
   "execution_count": 12,
   "metadata": {
    "collapsed": false,
    "urth": {
     "dashboard": {}
    }
   },
   "outputs": [],
   "source": [
    "def parse_timestamp(ts):\n",
    "    \"\"\"Returns an UTC datetime object.\n",
    "    \"\"\"\n",
    "    return dt.utcfromtimestamp(ts).replace(tzinfo=tz.gettz('UTC'))\n",
    "\n",
    "def parse_date(date_string):\n",
    "    \"\"\"Parses an ISO date string and returns a UTC datetime object.\n",
    "    \"\"\"\n",
    "    if date_string is None:\n",
    "        return np.nan\n",
    "    date = dateutil.parser.parse(date_string)\n",
    "    return datetime.utcfromtimestamp(date_val.timestamp())\n",
    "\n",
    "\n",
    "class DefaultDict(dict):\n",
    "    def __init__(self, from_key):\n",
    "        self.from_key = from_key\n",
    "    def __missing__(self, key):\n",
    "#         print('__missing__ called!')\n",
    "        val = self.from_key(key)\n",
    "        self[key] = val\n",
    "        return val\n",
    "\n",
    "consumers = DefaultDict(lambda key: KafkaConsumer(key, consumer_timeout_ms=100))\n",
    "\n",
    "top_counts_df = pd.DataFrame(airline_handles.iloc[:,0].str.lower())\n",
    "top_counts_df['Tweet Count'] = 0\n",
    "\n",
    "def get_top_counts():\n",
    "    \"\"\"Returns sentiment counts (positive and negative) for indiviudal metrics. \n",
    "    \"\"\"\n",
    "#     print('get_top_counts called')\n",
    "    c = consumers['top-counts']\n",
    "    ms = [loads(v.value.decode('utf-8')) for v in flatten(c.poll(timeout_ms=500).values())]\n",
    "    total = sum(m['count'] for m in ms)\n",
    "    channel('w').set('total_counts', total)\n",
    "    if ms:\n",
    "        rs = [(m['value'].lower(), m['count']) for m in ms]\n",
    "        total = sum(r[1] for r in rs)\n",
    "        df = (pd.DataFrame(rs, columns=['Airline Handle', 'Tweet Count'])\n",
    "              .groupby('Airline Handle', as_index=False)\n",
    "              .sum())\n",
    "        channel('w').set('counts', df)\n",
    "        return df\n",
    "\n",
    "def message_to_rec(m):\n",
    "    return (m['mention'], \n",
    "            m['cat'], \n",
    "            m['polarity'], \n",
    "            m['tweet']['id'], \n",
    "            parse_timestamp(m['tweet']['created_at'] / 1000.0), \n",
    "            m['tweet']['text']) "
   ]
  },
  {
   "cell_type": "code",
   "execution_count": 13,
   "metadata": {
    "collapsed": true,
    "urth": {
     "dashboard": {}
    }
   },
   "outputs": [],
   "source": [
    "# This causes the kernel to die. Likely bug.\n",
    "\n",
    "def get_sentiment_messages():\n",
    "    c = consumers['sentiment']\n",
    "    vs = [loads(v.value.decode('utf-8')) for v in flatten(c.poll(timeout_ms=1000).values())]\n",
    "    print('vs:', vs[0] if vs else None)\n",
    "    if vs:\n",
    "        tweets_df = pd.DataFrame((message_to_rec(m) for ms in vs for m in ms), \n",
    "                                 columns=['Mention', 'Category', 'Polarity', \n",
    "                                          'Tweet id', 'Tweet time', 'Tweet text'])\n",
    "        channel('v').set('messages', tweets_df)\n",
    "        return tweets_df"
   ]
  },
  {
   "cell_type": "code",
   "execution_count": null,
   "metadata": {
    "collapsed": false,
    "scrolled": false,
    "urth": {
     "dashboard": {}
    }
   },
   "outputs": [
    {
     "name": "stdout",
     "output_type": "stream",
     "text": [
      "vs: [{'polarity': 2.0, 'tweet': {'id': 717180043588296704, 'created_at': 1459824021000, 'text': '@VirginAmerica and @AlaskaAir ??? Nooooooooooo. #virginsacrifice.'}, 'cat': '=', 'mention': 'virginamerica'}]\n"
     ]
    }
   ],
   "source": [
    "get_sentiment_messages()"
   ]
  },
  {
   "cell_type": "code",
   "execution_count": null,
   "metadata": {
    "collapsed": false,
    "urth": {
     "dashboard": {}
    }
   },
   "outputs": [],
   "source": [
    "def dashboard_data():\n",
    "    \"\"\"Returns the individual sentiment metrics and the total sentiment.\n",
    "    \"\"\"\n",
    "    channel().set('show-progress', True)\n",
    "    channel().set('progress-end', 2)\n",
    "    \n",
    "    end_date = datetime.now()\n",
    "    start_date = end_date - timedelta(days=CURRENT_WINDOW_SIZE_IN_DAYS)\n",
    "    channel().set('progress-message', 'Collecting individual sentiment counts.')\n",
    "    channel().set('progress', 1)\n",
    "    metrics = get_sentiment_counts_during(start_date, end_date)\n",
    "    individual_sentiment = {\n",
    "        'rows': metrics,\n",
    "        'columns': ['Index', 'Positive', 'Negative'],\n",
    "        'metadata' : {'interval' : CURRENT_WINDOW_SIZE_IN_DAYS}\n",
    "    }\n",
    "\n",
    "    total_positive = 0\n",
    "    total_negative = 0\n",
    "    channel().set('progress-message', 'Calculating total sentiment counts.')\n",
    "    channel().set('progress', 2)\n",
    "    \n",
    "    for metric in individual_sentiment['rows']:\n",
    "        total_positive +=  metric[1]\n",
    "        total_negative +=  metric[2]\n",
    "\n",
    "    total_sentiment = {\n",
    "        'rows': [\n",
    "            ['Total', total_positive, total_negative]\n",
    "        ],\n",
    "        'columns': ['Index', 'Positive', 'Negative'],\n",
    "        'metadata' : {'interval' : CURRENT_WINDOW_SIZE_IN_DAYS}\n",
    "    }\n",
    "    \n",
    "    channel().set('show-progress', False)\n",
    "    return {\n",
    "        'individual': individual_sentiment,\n",
    "        'total': total_sentiment\n",
    "    }"
   ]
  },
  {
   "cell_type": "code",
   "execution_count": 14,
   "metadata": {
    "collapsed": false,
    "urth": {
     "dashboard": {
      "layout": {
       "col": 0,
       "height": 4,
       "row": 0,
       "width": 8
      }
     }
    }
   },
   "outputs": [
    {
     "data": {
      "text/html": [
       "<template id='banner' is=\"urth-core-bind\">\n",
       "    <h1>Twitter Spark Dashboard</h1>\n",
       "    \n",
       "    <paper-item>\n",
       "        <p>\n",
       "            This dashboard shows a few statistics collected during the sentiment analysis.\n",
       "        </p>\n",
       "    </paper-item>\n",
       "    \n",
       "    <template is='dom-if' if='{{show-progress}}'>\n",
       "        <paper-progress value=\"{{progress}}\" min='0' max='{{progress-end}}'></paper-progress>\n",
       "        <paper-item>\n",
       "            <p class='center fill'>{{progress-message}}</p>\n",
       "        </paper-item>\n",
       "    </template>\n",
       "</template>"
      ],
      "text/plain": [
       "<IPython.core.display.HTML object>"
      ]
     },
     "metadata": {},
     "output_type": "display_data"
    }
   ],
   "source": [
    "%%html\n",
    "<template id='banner' is=\"urth-core-bind\">\n",
    "    <h1>Twitter Spark Dashboard</h1>\n",
    "    \n",
    "    <paper-item>\n",
    "        <p>\n",
    "            This dashboard shows a few statistics collected during the sentiment analysis.\n",
    "        </p>\n",
    "    </paper-item>\n",
    "    \n",
    "    <template is='dom-if' if='{{show-progress}}'>\n",
    "        <paper-progress value=\"{{progress}}\" min='0' max='{{progress-end}}'></paper-progress>\n",
    "        <paper-item>\n",
    "            <p class='center fill'>{{progress-message}}</p>\n",
    "        </paper-item>\n",
    "    </template>\n",
    "</template>"
   ]
  },
  {
   "cell_type": "code",
   "execution_count": 15,
   "metadata": {
    "collapsed": false,
    "urth": {
     "dashboard": {
      "layout": {
       "col": 0,
       "height": 17,
       "row": 20,
       "width": 12
      }
     }
    }
   },
   "outputs": [
    {
     "data": {
      "text/html": [
       "<template id=\"countGraph\" is=\"urth-core-bind\" channel=\"w\">\n",
       "\n",
       "    <paper-item>\n",
       "        <h2>Number of tweets in the current time window, by handle</h2>\n",
       "    </paper-item>\n",
       "\n",
       "    <urth-viz-chart type='bar' \n",
       "                    datarows='{{ counts.data }}' \n",
       "                    columns='{{ counts.columns }}'\n",
       "                    rotatelabels='30'\n",
       "                    margin='{\"bottom\": 100, \"right\":100}'></urth-viz-chart>\n",
       "\n",
       "    <urth-core-function id=\"topCounts1\" \n",
       "                        ref=\"get_top_counts\" \n",
       "                        result=\"{{ counts }}\"></urth-core-function>\n",
       "\n",
       "    <paper-toggle-button id='stream-toggle' \n",
       "                         on-change=\"toggleStream\">Stream</paper-toggle-button>\n",
       "\n",
       "</template>"
      ],
      "text/plain": [
       "<IPython.core.display.HTML object>"
      ]
     },
     "metadata": {},
     "output_type": "display_data"
    }
   ],
   "source": [
    "%%html\n",
    "<template id=\"countGraph\" is=\"urth-core-bind\" channel=\"w\">\n",
    "\n",
    "    <paper-item>\n",
    "        <h2>Number of tweets in the current time window, by handle</h2>\n",
    "    </paper-item>\n",
    "\n",
    "    <urth-viz-chart type='bar' \n",
    "                    datarows='{{ counts.data }}' \n",
    "                    columns='{{ counts.columns }}'\n",
    "                    rotatelabels='30'\n",
    "                    margin='{\"bottom\": 100, \"right\":100}'></urth-viz-chart>\n",
    "\n",
    "    <urth-core-function id=\"topCounts1\" \n",
    "                        ref=\"get_top_counts\" \n",
    "                        result=\"{{ counts }}\"></urth-core-function>\n",
    "\n",
    "    <paper-item>\n",
    "    <div>\n",
    "    \n",
    "    <paper-toggle-button id='stream-toggle' \n",
    "                         on-change=\"toggleStream\">Stream</paper-toggle-button>\n",
    "    \n",
    "    <p>Current counts: {{ tol}}\n",
    "    <div>\n",
    "    </paper-item>\n",
    "\n",
    "</template>"
   ]
  },
  {
   "cell_type": "code",
   "execution_count": 16,
   "metadata": {
    "collapsed": false,
    "urth": {
     "dashboard": {
      "layout": {
       "col": 0,
       "height": 16,
       "row": 37,
       "width": 4
      }
     }
    }
   },
   "outputs": [
    {
     "data": {
      "text/html": [
       "<template is=\"urth-core-bind\">\n",
       "    <urth-core-function id=\"topCountsFunction\" \n",
       "                        ref=\"get_top_counts\" \n",
       "                        result=\"{{ counts }}\"></urth-core-function>\n",
       "    <button onClick=\"topCountsFunction.invoke()\">invoke</button><br/>\n",
       "    <span>{{ counts }}</span>\n",
       "</template> "
      ],
      "text/plain": [
       "<IPython.core.display.HTML object>"
      ]
     },
     "metadata": {},
     "output_type": "display_data"
    }
   ],
   "source": [
    "%%html\n",
    "<template is=\"urth-core-bind\">\n",
    "    <urth-core-function id=\"topCountsFunction\" \n",
    "                        ref=\"get_top_counts\" \n",
    "                        result=\"{{ counts }}\"></urth-core-function>\n",
    "    <button onClick=\"topCountsFunction.invoke()\">invoke</button><br/>\n",
    "    <span>{{ counts }}</span>\n",
    "</template> "
   ]
  },
  {
   "cell_type": "code",
   "execution_count": 17,
   "metadata": {
    "collapsed": false,
    "urth": {
     "dashboard": {}
    }
   },
   "outputs": [
    {
     "data": {
      "application/javascript": [
       "var streamInterval = null;\n",
       "var topCounts = function() {\n",
       "    console.debug('in topCounts');\n",
       "    return $('#topCountsFunction').get(0).invoke();\n",
       "}\n",
       "\n",
       "countGraph.toggleStream = function(e) {\n",
       "    if (document.getElementById('stream-toggle').active) {\n",
       "        console.debug('stream-toggle on!');\n",
       "        streamInterval = setInterval(topCounts, 5000);\n",
       "    }\n",
       "    else {\n",
       "        console.debug('stream-toggle off');\n",
       "        clearInterval(streamInterval);\n",
       "    }\n",
       "};"
      ],
      "text/plain": [
       "<IPython.core.display.Javascript object>"
      ]
     },
     "metadata": {},
     "output_type": "display_data"
    }
   ],
   "source": [
    "%%javascript\n",
    "var streamInterval = null;\n",
    "var topCounts = function() {\n",
    "    console.debug('in topCounts');\n",
    "    return $('#topCountsFunction').get(0).invoke();\n",
    "}\n",
    "\n",
    "countGraph.toggleStream = function(e) {\n",
    "    if (document.getElementById('stream-toggle').active) {\n",
    "        console.debug('stream-toggle on!');\n",
    "        streamInterval = setInterval(topCounts, 5000);\n",
    "    }\n",
    "    else {\n",
    "        console.debug('stream-toggle off');\n",
    "        clearInterval(streamInterval);\n",
    "    }\n",
    "};"
   ]
  },
  {
   "cell_type": "code",
   "execution_count": null,
   "metadata": {
    "collapsed": true,
    "urth": {
     "dashboard": {}
    }
   },
   "outputs": [],
   "source": [
    "sent_c = consumers['sentiment']"
   ]
  },
  {
   "cell_type": "code",
   "execution_count": null,
   "metadata": {
    "collapsed": false,
    "scrolled": true,
    "urth": {
     "dashboard": {
      "layout": {
       "col": 8,
       "height": 4,
       "row": 37,
       "width": 4
      }
     }
    }
   },
   "outputs": [],
   "source": [
    "vs = [(v.offset, loads(v.value)) for v in flatten(sent_c.poll(timeout_ms=500).values())]\n",
    "\n",
    "os = [o for o, _ in vs]\n",
    "print(min(os), '-', max(os))"
   ]
  },
  {
   "cell_type": "code",
   "execution_count": null,
   "metadata": {
    "collapsed": false
   },
   "outputs": [],
   "source": [
    "vs[3][1]"
   ]
  },
  {
   "cell_type": "code",
   "execution_count": null,
   "metadata": {
    "collapsed": false,
    "urth": {
     "dashboard": {
      "layout": {
       "col": 8,
       "height": 13,
       "row": 41,
       "width": 4
      }
     }
    }
   },
   "outputs": [],
   "source": [
    "tweets_df = pd.DataFrame((message_to_rec(m) for _, v in vs for m in v), \n",
    "                         columns=['mention', 'cat', 'polarity', \n",
    "                                  'tweet_id', 'tweet_created_at', 'tweet_text'])\n",
    "tweets_df"
   ]
  },
  {
   "cell_type": "code",
   "execution_count": null,
   "metadata": {
    "collapsed": false,
    "urth": {
     "dashboard": {
      "layout": {
       "col": 4,
       "height": 47,
       "row": 48,
       "width": 4
      }
     }
    }
   },
   "outputs": [],
   "source": [
    "sent_c.config"
   ]
  },
  {
   "cell_type": "code",
   "execution_count": null,
   "metadata": {
    "collapsed": false,
    "urth": {
     "dashboard": {}
    }
   },
   "outputs": [],
   "source": [
    "vs2 = flatten(sent_c.poll(timeout_ms=1000).values())"
   ]
  },
  {
   "cell_type": "code",
   "execution_count": null,
   "metadata": {
    "collapsed": false,
    "urth": {
     "dashboard": {
      "layout": {
       "col": 0,
       "height": 11,
       "row": 53,
       "width": 4
      }
     }
    }
   },
   "outputs": [],
   "source": [
    "max(v.offset for v in vs2)"
   ]
  },
  {
   "cell_type": "code",
   "execution_count": null,
   "metadata": {
    "collapsed": false,
    "urth": {
     "dashboard": {}
    }
   },
   "outputs": [],
   "source": [
    "sent_c.committed(_[0])"
   ]
  },
  {
   "cell_type": "code",
   "execution_count": null,
   "metadata": {
    "collapsed": false,
    "scrolled": true,
    "urth": {
     "dashboard": {}
    }
   },
   "outputs": [],
   "source": [
    "import threading as t\n",
    "from time import sleep\n",
    "\n",
    "def test(n):\n",
    "    for i in range(n):\n",
    "        print('step:', i)\n",
    "        sleep(1)"
   ]
  },
  {
   "cell_type": "code",
   "execution_count": null,
   "metadata": {
    "collapsed": false,
    "urth": {
     "dashboard": {
      "layout": {
       "col": 8,
       "height": 4,
       "row": 54,
       "width": 4
      }
     }
    }
   },
   "outputs": [],
   "source": [
    "task = t.Thread(target=test, args=(10,))\n",
    "task.start()"
   ]
  },
  {
   "cell_type": "code",
   "execution_count": null,
   "metadata": {
    "collapsed": true,
    "urth": {
     "dashboard": {}
    }
   },
   "outputs": [],
   "source": [
    "task.stop()\n"
   ]
  },
  {
   "cell_type": "code",
   "execution_count": null,
   "metadata": {
    "collapsed": false,
    "urth": {
     "dashboard": {}
    }
   },
   "outputs": [],
   "source": [
    "loop = asyncio.new_event_loop()"
   ]
  },
  {
   "cell_type": "code",
   "execution_count": null,
   "metadata": {
    "collapsed": false,
    "urth": {
     "dashboard": {
      "layout": {
       "col": 8,
       "height": 4,
       "row": 58,
       "width": 4
      }
     }
    }
   },
   "outputs": [],
   "source": [
    "loop"
   ]
  },
  {
   "cell_type": "code",
   "execution_count": null,
   "metadata": {
    "collapsed": false,
    "urth": {
     "dashboard": {
      "layout": {
       "col": 8,
       "height": 4,
       "row": 62,
       "width": 4
      }
     }
    }
   },
   "outputs": [],
   "source": [
    "'hello'"
   ]
  },
  {
   "cell_type": "code",
   "execution_count": null,
   "metadata": {
    "collapsed": true,
    "urth": {
     "dashboard": {}
    }
   },
   "outputs": [],
   "source": []
  }
 ],
 "metadata": {
  "kernelspec": {
   "display_name": "Python 3",
   "language": "python",
   "name": "python3"
  },
  "language_info": {
   "codemirror_mode": {
    "name": "ipython",
    "version": 3
   },
   "file_extension": ".py",
   "mimetype": "text/x-python",
   "name": "python",
   "nbconvert_exporter": "python",
   "pygments_lexer": "ipython3",
   "version": "3.5.1"
  },
  "urth": {
   "dashboard": {
    "cellMargin": 10,
    "defaultCellHeight": 20,
    "layoutStrategy": "packed",
    "maxColumns": 12
   }
  }
 },
 "nbformat": 4,
 "nbformat_minor": 0
}
